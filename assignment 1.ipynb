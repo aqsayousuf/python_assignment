{
 "cells": [
  {
   "cell_type": "code",
   "execution_count": 1,
   "metadata": {},
   "outputs": [
    {
     "name": "stdout",
     "output_type": "stream",
     "text": [
      "Twinkle,  twinkle,  little star,\n",
      "      How I wounder what  you  are!\n",
      "             Up above the world so high,\n",
      "             Like a diamind in the sky.\n",
      "Twinkle,  twinkle,  little star,\n",
      "      How I wounder what  you  are\n"
     ]
    }
   ],
   "source": [
    "print(\"Twinkle,  twinkle,  little star,\")\n",
    "print(\"      How I wounder what  you  are!\")\n",
    "print(\"             Up above the world so high,\")\n",
    "print(\"             Like a diamind in the sky.\")\n",
    "print(\"Twinkle,  twinkle,  little star,\")\n",
    "print(\"      How I wounder what  you  are\")"
   ]
  },
  {
   "cell_type": "code",
   "execution_count": 54,
   "metadata": {},
   "outputs": [
    {
     "name": "stdout",
     "output_type": "stream",
     "text": [
      "python current version:\n",
      "3.7.4 (default, Aug  9 2019, 18:34:13) [MSC v.1915 64 bit (AMD64)]\n"
     ]
    }
   ],
   "source": [
    "print(\"python current version:\")\n",
    "print(sys.version)"
   ]
  },
  {
   "cell_type": "code",
   "execution_count": 5,
   "metadata": {},
   "outputs": [
    {
     "name": "stdout",
     "output_type": "stream",
     "text": [
      "Current date and time: \n",
      "2019-11-02 14:47:52.722685\n"
     ]
    }
   ],
   "source": [
    "import datetime\n",
    "now = datetime.datetime.now()\n",
    "print(\"Current date and time: \")\n",
    "print(str(now))"
   ]
  },
  {
   "cell_type": "code",
   "execution_count": 51,
   "metadata": {},
   "outputs": [
    {
     "name": "stdout",
     "output_type": "stream",
     "text": [
      "enter the radius:2\n",
      "the area of the circle of the given radius is: 12\n"
     ]
    }
   ],
   "source": [
    "\n",
    "rad=int(input(\"enter the radius:\"))\n",
    "are= int(22/7*rad*rad)\n",
    "print(\"the area of the circle of the given radius is:\" , are)"
   ]
  },
  {
   "cell_type": "code",
   "execution_count": 52,
   "metadata": {},
   "outputs": [
    {
     "name": "stdout",
     "output_type": "stream",
     "text": [
      "Enter the num 1: 5\n",
      "Enter the num 2: 4\n",
      "answer =  9\n"
     ]
    }
   ],
   "source": [
    "num1=int(input(\"Enter the num 1: \"))\n",
    "num2 =int(input(\"Enter the num 2: \"))\n",
    "ans=num1 + num2\n",
    "print(\"answer = \", ans)"
   ]
  },
  {
   "cell_type": "markdown",
   "metadata": {},
   "source": [
    "firname= input(\"Enter your first name:\")\n",
    "lasname=input(\"Enter your last name:\")\n",
    "print(\"The reverse order of your name is:\" \" \"+ lasname + \" \" + firname)"
   ]
  },
  {
   "cell_type": "markdown",
   "metadata": {},
   "source": []
  }
 ],
 "metadata": {
  "kernelspec": {
   "display_name": "Python 3",
   "language": "python",
   "name": "python3"
  },
  "language_info": {
   "codemirror_mode": {
    "name": "ipython",
    "version": 3
   },
   "file_extension": ".py",
   "mimetype": "text/x-python",
   "name": "python",
   "nbconvert_exporter": "python",
   "pygments_lexer": "ipython3",
   "version": "3.7.4"
  }
 },
 "nbformat": 4,
 "nbformat_minor": 2
}
